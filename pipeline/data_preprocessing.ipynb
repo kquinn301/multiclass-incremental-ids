{
 "cells": [
  {
   "cell_type": "code",
   "execution_count": 1,
   "id": "9c2b283e",
   "metadata": {},
   "outputs": [],
   "source": [
    "import numpy as np\n",
    "import pandas as pd\n",
    "import json\n",
    "from sklearn.preprocessing import LabelEncoder"
   ]
  },
  {
   "cell_type": "code",
   "execution_count": 2,
   "id": "08268752",
   "metadata": {},
   "outputs": [
    {
     "name": "stdout",
     "output_type": "stream",
     "text": [
      "DDoS: (225745, 79)\n",
      "PortScan: (286467, 79)\n",
      "DoS Hulk: (692703, 79)\n"
     ]
    }
   ],
   "source": [
    "# Read raw data from three different attack-related CSV files\n",
    "ddos_df = pd.read_csv('./datasets/cicids2017/Friday-WorkingHours-Afternoon-DDos.pcap_ISCX.csv')\n",
    "portscan_df = pd.read_csv('./datasets/cicids2017/Friday-WorkingHours-Afternoon-PortScan.pcap_ISCX.csv')\n",
    "dos_hulk_df = pd.read_csv('./datasets/cicids2017/Wednesday-workingHours.pcap_ISCX.csv')\n",
    "\n",
    "print(\"DDoS:\", ddos_df.shape)\n",
    "print(\"PortScan:\", portscan_df.shape)\n",
    "print(\"DoS Hulk:\", dos_hulk_df.shape)"
   ]
  },
  {
   "cell_type": "code",
   "execution_count": 3,
   "id": "ffcd46db",
   "metadata": {},
   "outputs": [
    {
     "name": "stdout",
     "output_type": "stream",
     "text": [
      "Shape after merging: (1183316, 79)\n"
     ]
    }
   ],
   "source": [
    "# Combine three files into a single DataFrame\n",
    "df = pd.concat([ddos_df, portscan_df, dos_hulk_df])\n",
    "\n",
    "# Remove leading and trailing whitespace from column names\n",
    "df.rename(columns=lambda x: x.strip(), inplace=True)\n",
    "\n",
    "# Keep only rows with desired labels\n",
    "df = df[df['Label'].isin(['BENIGN', 'DoS Hulk', 'PortScan', 'DDoS'])]\n",
    "\n",
    "print(\"Shape after merging:\", df.shape)"
   ]
  },
  {
   "cell_type": "code",
   "execution_count": 4,
   "id": "135de486",
   "metadata": {},
   "outputs": [
    {
     "name": "stdout",
     "output_type": "stream",
     "text": [
      "Shape after removing duplicates: (1019035, 79)\n"
     ]
    }
   ],
   "source": [
    "# Remove duplicated rows\n",
    "df = df.drop_duplicates()\n",
    "\n",
    "print(\"Shape after removing duplicates:\", df.shape)"
   ]
  },
  {
   "cell_type": "code",
   "execution_count": 5,
   "id": "ea7e54cb",
   "metadata": {},
   "outputs": [
    {
     "name": "stdout",
     "output_type": "stream",
     "text": [
      "Label Mapping:  {'BENIGN': 0, 'DDoS': 1, 'DoS Hulk': 2, 'PortScan': 3}\n"
     ]
    }
   ],
   "source": [
    "# Encode the label column using LabelEncoder\n",
    "label_col = 'Label'\n",
    "label_encoder = LabelEncoder()\n",
    "df[label_col] = label_encoder.fit_transform(df[label_col])\n",
    "\n",
    "# Create a dictionary that maps original labels names to encoded integers\n",
    "label_mapping = dict(zip(label_encoder.classes_, label_encoder.transform(label_encoder.classes_)))\n",
    "print(\"Label Mapping: \", label_mapping)\n",
    "\n",
    "label_mapping_file = {k: int(v) for k, v in label_mapping.items()}\n",
    "\n",
    "# Save label mapping for future works\n",
    "with open(\"processed_data/label_mapping.json\", \"w\") as f:\n",
    "    json.dump(label_mapping_file, f)"
   ]
  },
  {
   "cell_type": "code",
   "execution_count": 6,
   "id": "f7a49a34",
   "metadata": {},
   "outputs": [
    {
     "name": "stdout",
     "output_type": "stream",
     "text": [
      "Number of infinity values:  1237\n"
     ]
    }
   ],
   "source": [
    "# Total number of infinite values\n",
    "print(\"Number of infinity values: \", np.isinf(df).sum().sum())\n",
    "\n",
    "# Replace infinite values (inf, -inf) with NaN\n",
    "df.replace([np.inf, -np.inf], np.nan, inplace=True)"
   ]
  },
  {
   "cell_type": "code",
   "execution_count": 7,
   "id": "aa3f46b4",
   "metadata": {},
   "outputs": [
    {
     "name": "stdout",
     "output_type": "stream",
     "text": [
      "Number of missing values:  1316\n",
      "Remaining missing values: 0\n"
     ]
    }
   ],
   "source": [
    "# The total number of missing values\n",
    "print(\"Number of missing values: \", df.isna().sum().sum())\n",
    "\n",
    "#  Replace missing values (NaN) with the median of each column\n",
    "df = df.fillna(df.median())\n",
    "print(\"Remaining missing values:\", df.isna().sum().sum()) "
   ]
  },
  {
   "cell_type": "code",
   "execution_count": 8,
   "id": "67a4eef8",
   "metadata": {},
   "outputs": [
    {
     "name": "stdout",
     "output_type": "stream",
     "text": [
      "Preprocessed data saved to preprocessed_dataset.csv\n"
     ]
    }
   ],
   "source": [
    "# Save the preprocessed DataFrame to a CSV file\n",
    "df.to_csv(\"processed_data/preprocessed_dataset.csv\", index=False)\n",
    "print(\"Preprocessed data saved to preprocessed_dataset.csv\")"
   ]
  }
 ],
 "metadata": {
  "kernelspec": {
   "display_name": "ids-env",
   "language": "python",
   "name": "python3"
  },
  "language_info": {
   "codemirror_mode": {
    "name": "ipython",
    "version": 3
   },
   "file_extension": ".py",
   "mimetype": "text/x-python",
   "name": "python",
   "nbconvert_exporter": "python",
   "pygments_lexer": "ipython3",
   "version": "3.9.13"
  }
 },
 "nbformat": 4,
 "nbformat_minor": 5
}
